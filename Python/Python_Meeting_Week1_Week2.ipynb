{
 "cells": [
  {
   "cell_type": "markdown",
   "metadata": {},
   "source": [
    "#### Basic quiz: Python - slicing"
   ]
  },
  {
   "cell_type": "code",
   "execution_count": 6,
   "metadata": {},
   "outputs": [
    {
     "name": "stdout",
     "output_type": "stream",
     "text": [
      "Tanis\n",
      "Tanisha Bro\n",
      "\n",
      "Bro\n"
     ]
    }
   ],
   "source": [
    "s = \"Tanisha Brown\"\n",
    "print(s[0 : 5])\n",
    "print(s[0 : -2])\n",
    "print(s[-2 : -5])\n",
    "print(s[-5 : -2])"
   ]
  },
  {
   "cell_type": "markdown",
   "metadata": {},
   "source": [
    "#### Some data types in Python"
   ]
  },
  {
   "cell_type": "code",
   "execution_count": 7,
   "metadata": {},
   "outputs": [
    {
     "name": "stdout",
     "output_type": "stream",
     "text": [
      "<class 'int'>\n",
      "<class 'float'>\n",
      "<class 'bool'>\n",
      "partial types shown: <class 'list'> <class 'tuple'> <class 'set'> <class 'dict'>\n",
      "[<class 'str'>, <class 'list'>, <class 'tuple'>, <class 'set'>, <class 'dict'>, <class 'NoneType'>, <class 'list'>, <class 'complex'>]\n",
      "[123, 2, 3, 4, 5]\n"
     ]
    }
   ],
   "source": [
    "i = 3  # weakly typed  Python is very short and terse. ipynb file extension\n",
    "print(type(i))\n",
    "interest = 3.44\n",
    "print(type(interest))\n",
    "safe = True\n",
    "print(type(safe))\n",
    "nums = [1,2,3] # regular list\n",
    "nums[1] = 45 # can change list because it is mutable\n",
    "x = 34 + 11j\n",
    "tuple1 = (23, 3, 4)  # immutable so can't change it\n",
    "set1 = {3, 4, 5, 6, 77}  # no duplicates\n",
    "dict1 = {'a':1, 'b':2, 'c':44, 'd':'Joseph'} # dictionary\n",
    "print((\"partial types shown: %s %s %s %s\") %(type(nums), type(tuple1), type(set1), type(dict1)))\n",
    "lst_comp = [a for a in (type(\"hello\"), type(nums), type(tuple1), type(set1), type(dict1), type(None), \n",
    "                    type([[1, 2, 3], [3, 5, 7]]), type(x))] # list comprehension\n",
    "print(lst_comp)\n",
    "lst2 = [a for a in [123,2,3,4,5]]\n",
    "print(lst2)"
   ]
  },
  {
   "cell_type": "code",
   "execution_count": 24,
   "metadata": {},
   "outputs": [
    {
     "name": "stdout",
     "output_type": "stream",
     "text": [
      "1\n"
     ]
    }
   ],
   "source": [
    "## What is a dict?\n",
    "print(dict1['a'])"
   ]
  },
  {
   "cell_type": "code",
   "execution_count": 126,
   "metadata": {},
   "outputs": [
    {
     "name": "stdout",
     "output_type": "stream",
     "text": [
      "1 \n",
      "2 \n",
      "3 fizz\n",
      "4 \n",
      "5 buzz\n",
      "6 fizz\n",
      "7 \n",
      "8 \n",
      "9 fizz\n",
      "10 buzz\n",
      "11 \n",
      "12 fizz\n",
      "13 \n",
      "14 \n",
      "15 fizzbuzz\n",
      "16 \n",
      "17 \n",
      "18 fizz\n",
      "19 \n",
      "20 buzz\n",
      "21 fizz\n",
      "22 \n",
      "23 \n",
      "24 fizz\n",
      "25 buzz\n",
      "26 \n",
      "27 fizz\n",
      "28 \n",
      "29 \n",
      "30 fizzbuzz\n"
     ]
    }
   ],
   "source": [
    "def fizz_buzz():\n",
    "    \n",
    "    for i in range(1, 31): # Does range include last element? inclusive:exclusive\n",
    "        if i % 3 == 0 :\n",
    "            name = 'fizz'\n",
    "            if i % 5 == 0:\n",
    "                name = 'fizzbuzz'\n",
    "        elif i % 5 == 0:\n",
    "            name = 'buzz'\n",
    "        else:\n",
    "            name = ''\n",
    "        print(i, name, end = '\\n')\n",
    "        \n",
    "fizz_buzz()      \n",
    "            \n",
    "            "
   ]
  },
  {
   "cell_type": "code",
   "execution_count": 133,
   "metadata": {},
   "outputs": [
    {
     "name": "stdout",
     "output_type": "stream",
     "text": [
      "Brad, Pit Bull Terrier, 3\n",
      "Amy, Poodle, 3, black\n",
      "Amy is a Poodle of age 3 and her color is black. \n",
      "\n",
      "same output diff format: Amy is a Poodle of age 3 and her color is black. \n",
      "\n"
     ]
    }
   ],
   "source": [
    "# classes, constructor with __init__, print stmts and formats, var args - *args and **kwargs\n",
    "class Dog:\n",
    "    def __init__(self, name, breed, *args): # variable args - constructor\n",
    "        self.name = name\n",
    "        self.breed = breed\n",
    "        self.age = args[0]\n",
    "\n",
    "    def print(self): # each function of class must have self pointer as first arg\n",
    "        print(self.name, self.breed, self.age, sep = ', ', end = '\\n')\n",
    "\n",
    "brad = Dog('Brad', 'Pit Bull Terrier', 3)\n",
    "brad.print()\n",
    "\n",
    "class Dog2:\n",
    "    def __init__(self, name, breed, age, **kwargs): # variable keyword args\n",
    "        self.name = name\n",
    "        self.breed = breed\n",
    "        self.age = age\n",
    "        self.color = kwargs['color'] #dict or like associative array\n",
    "\n",
    "    def print(self):\n",
    "        print(self.name, self.breed, self.age, self.color, sep = ', ', end = '\\n')\n",
    "        print(\"%s is a %s of age %d and her color is %s. \\n\" % (self.name, self.breed, self.age, self.color))\n",
    "        print(\"same output diff format: {0} is a {1} of age {2} and her color is {3}. \\n\".format(self.name, self.breed, self.age, self.color))\n",
    "amy = Dog2('Amy', 'Poodle', 3, color=\"black\")\n",
    "amy.print()\n"
   ]
  },
  {
   "cell_type": "markdown",
   "metadata": {},
   "source": [
    "### Use DataFrame from pandas. Dot product multiplies rows and columns.\n"
   ]
  },
  {
   "cell_type": "code",
   "execution_count": 11,
   "metadata": {},
   "outputs": [
    {
     "name": "stdout",
     "output_type": "stream",
     "text": [
      "<class 'pandas.core.frame.DataFrame'>\n",
      "   0  1  2\n",
      "0  1  2  3\n",
      "1  4  5  6\n",
      "2  7  8  9\n",
      "    0   1   2\n",
      "0   1   2   3\n",
      "1  14  15  16\n",
      "2  17   8  12\n",
      "length dataframe is 3\n",
      "<class 'pandas.core.frame.DataFrame'>\n",
      "dot product:\n",
      "     c1   c2   c3\n",
      "r1   80   56   71\n",
      "r2  176  131  164\n",
      "r3  272  206  257\n",
      "print rows 2, 3 slice:\n",
      "     c1   c2   c3\n",
      "r2  176  131  164\n",
      "r3  272  206  257\n",
      "print row 2 slice:\n",
      "     c1   c2   c3\n",
      "r2  176  131  164\n",
      "print 3rd column slice with iloc[]:\n",
      "r1     71\n",
      "r2    164\n",
      "r3    257\n",
      "Name: c3, dtype: int64\n"
     ]
    }
   ],
   "source": [
    "import pandas as pd  # pip install pandas\n",
    "df1 = pd.DataFrame([[1,2,3], [4,5,6], [7,8,9]]) # matrix or list of lists\n",
    "print(type(df1))\n",
    "df2 = pd.DataFrame([[1,2,3], [14,15,16], [17,8,12]])\n",
    "print(df1, df2, sep = '\\n')\n",
    "print(\"length dataframe is\", len(df1))\n",
    "df_result = df1.dot(df2) # \"pythonic\"\n",
    "df_result.columns = [\"c1\", \"c2\", \"c3\"]\n",
    "df_result.index = [\"r1\", \"r2\", \"r3\"]\n",
    "print(type(df_result))\n",
    "print(\"dot product:\", df_result, sep = \"\\n\")\n",
    "print(\"print rows 2, 3 slice:\", df_result[1:], sep = \"\\n\")\n",
    "print(\"print row 2 slice:\", df_result[1:2], sep = \"\\n\")\n",
    "#Note: Using default column row, column names can use loc. But with custom names use iloc\n",
    "print(\"print 3rd column slice with iloc[]:\", df_result.iloc[:, 2], sep = \"\\n\") # use iloc to specify columns also\n"
   ]
  },
  {
   "cell_type": "markdown",
   "metadata": {},
   "source": [
    "### Use array and initialize with list comprehension. This can be messy with all the for loops."
   ]
  },
  {
   "cell_type": "code",
   "execution_count": 135,
   "metadata": {},
   "outputs": [
    {
     "name": "stdout",
     "output_type": "stream",
     "text": [
      "<class 'list'>\n",
      "[[80, 56, 71], [176, 131, 164], [272, 206, 257]]\n"
     ]
    }
   ],
   "source": [
    "mat1 = [[1,2,3], [4,5,6], [7,8,9]]\n",
    "mat2 = [[1,2,3], [14,15,16], [17,8,12]]\n",
    "print(type(mat1))\n",
    "result = [[0 for i in range(len(mat1))] for j in range(len(mat2))] # list comprehension\n",
    "# result = [[0]*len(df1)]*len(df2)  another way to initialize array but be careful when printing 2D array!\n",
    "for mat1_r in range(len(mat1)): # rows of matrix 1\n",
    "    for mat2_c in range(0, len(mat2)):  # columns of matrix 2\n",
    "        sum = 0;\n",
    "        for mat2_r in range(0, len(mat2)): # rows of matrix 2\n",
    "            sum = sum + mat1[mat1_r][mat2_r]*mat2[mat2_r][mat2_c]  # matrix multiplication\n",
    "        result[mat1_r][mat2_c] = sum # This is a cell in the final matrix now.\n",
    "print(result)"
   ]
  },
  {
   "cell_type": "markdown",
   "metadata": {},
   "source": [
    "### Numpy multiplication with matrices is a little different. The array in Numpy will apply an element by element multiplication and not a dot product as above."
   ]
  },
  {
   "cell_type": "code",
   "execution_count": 25,
   "metadata": {},
   "outputs": [
    {
     "name": "stdout",
     "output_type": "stream",
     "text": [
      "<class 'numpy.ndarray'>\n",
      "[[  1   4   9]\n",
      " [ 56  75  96]\n",
      " [119  64 108]]\n"
     ]
    }
   ],
   "source": [
    "import numpy as np  # pip installed modules, packages, etc.\n",
    "mat1 = np.array([[1,2,3], [4,5,6], [7,8,9]])\n",
    "print(type(mat1))\n",
    "mat2 = np.array([[1,2,3], [14,15,16], [17,8,12]])\n",
    "print(mat1*mat2) # numpy look at array and ndarray  pandas check out DataFrame, Series (slicing)\n"
   ]
  },
  {
   "cell_type": "code",
   "execution_count": 26,
   "metadata": {},
   "outputs": [
    {
     "data": {
      "text/plain": [
       "array([5, 6])"
      ]
     },
     "execution_count": 26,
     "metadata": {},
     "output_type": "execute_result"
    }
   ],
   "source": [
    "mat1[1][1:3] # for slicing the last position after : is exclusive"
   ]
  },
  {
   "cell_type": "markdown",
   "metadata": {},
   "source": [
    "### Lambdas in python are like \"anonymous\" functions - functional programming. Note in example below we don't have a function name, function body, parameters enclosed in parentheses. Relate this to streams and lambda in Java 8 and beyond, if you work with Java."
   ]
  },
  {
   "cell_type": "code",
   "execution_count": 136,
   "metadata": {},
   "outputs": [
    {
     "data": {
      "text/plain": [
       "27"
      ]
     },
     "execution_count": 136,
     "metadata": {},
     "output_type": "execute_result"
    }
   ],
   "source": [
    "f = lambda x : x**3  # no function name, no parens with params, no return type\n",
    "f(3)"
   ]
  },
  {
   "cell_type": "markdown",
   "metadata": {},
   "source": [
    "### A filter takes two parameters, (1) function and (2) iterable or scalar to use for function."
   ]
  },
  {
   "cell_type": "code",
   "execution_count": 29,
   "metadata": {},
   "outputs": [
    {
     "name": "stdout",
     "output_type": "stream",
     "text": [
      "[1, 3, 5, 7, 9, 11, 13, 15, 17, 19, 21, 23, 25, 27, 29, 31, 33, 35, 37, 39, 41, 43, 45, 47, 49]\n"
     ]
    }
   ],
   "source": [
    "odds = list(filter(lambda x : x % 2 == 1, range(1,50)))\n",
    "print(odds)"
   ]
  },
  {
   "cell_type": "code",
   "execution_count": 30,
   "metadata": {},
   "outputs": [
    {
     "name": "stdout",
     "output_type": "stream",
     "text": [
      "5\n",
      "4\n",
      "3\n",
      "<filter object at 0x00000116B7E119D0>\n"
     ]
    }
   ],
   "source": [
    "lst = [5, 4, 1, 2, 3]\n",
    "result = filter(lambda x : x**3 > 10, lst)\n",
    "for i in result:\n",
    "    print(i)\n",
    "print(result)"
   ]
  },
  {
   "cell_type": "code",
   "execution_count": 143,
   "metadata": {},
   "outputs": [
    {
     "data": {
      "text/plain": [
       "[1, 8, 64]"
      ]
     },
     "execution_count": 143,
     "metadata": {},
     "output_type": "execute_result"
    }
   ],
   "source": [
    "[i**3 for i in [1,2,4]] # list comprehension"
   ]
  },
  {
   "cell_type": "markdown",
   "metadata": {},
   "source": [
    "### Use map to map two arguments (1) functions to (2) each group of iterables."
   ]
  },
  {
   "cell_type": "code",
   "execution_count": 31,
   "metadata": {},
   "outputs": [
    {
     "name": "stdout",
     "output_type": "stream",
     "text": [
      "<enumerate object at 0x00000116B7F26C40>\n",
      "(1, True)\n",
      "(2, False)\n",
      "(3, True)\n",
      "(4, False)\n",
      "(5, True)\n",
      "(6, False)\n",
      "(7, True)\n",
      "(8, False)\n",
      "(9, True)\n",
      "(10, False)\n",
      "(11, True)\n",
      "(12, False)\n",
      "(13, True)\n",
      "(14, False)\n",
      "(15, True)\n",
      "(16, False)\n",
      "(17, True)\n",
      "(18, False)\n",
      "(19, True)\n",
      "(20, False)\n",
      "(21, True)\n",
      "(22, False)\n",
      "(23, True)\n",
      "(24, False)\n",
      "(25, True)\n",
      "(26, False)\n",
      "(27, True)\n",
      "(28, False)\n",
      "(29, True)\n",
      "(30, False)\n",
      "(31, True)\n",
      "(32, False)\n",
      "(33, True)\n",
      "(34, False)\n",
      "(35, True)\n",
      "(36, False)\n",
      "(37, True)\n",
      "(38, False)\n",
      "(39, True)\n",
      "(40, False)\n",
      "(41, True)\n",
      "(42, False)\n",
      "(43, True)\n",
      "(44, False)\n",
      "(45, True)\n",
      "(46, False)\n",
      "(47, True)\n",
      "(48, False)\n",
      "(49, True)\n",
      "(50, False)\n"
     ]
    }
   ],
   "source": [
    "odds = enumerate(map(lambda x : x % 2 == 1, range(1, 51)), start = 1) # enumerate useful for numbering\n",
    "print(odds)\n",
    "for i in odds:\n",
    "    print(i)"
   ]
  },
  {
   "cell_type": "markdown",
   "metadata": {},
   "source": [
    "### Now use map with two iterables and a function that takes two parameters. The iterables will be used only based on the shortest iterable."
   ]
  },
  {
   "cell_type": "code",
   "execution_count": 32,
   "metadata": {},
   "outputs": [
    {
     "name": "stdout",
     "output_type": "stream",
     "text": [
      "(value, value**value )\n",
      "(1, 1)\n",
      "(2, 4096)\n",
      "(3, 1594323)\n",
      "(4, 268435456)\n",
      "(5, 30517578125)\n"
     ]
    }
   ],
   "source": [
    "def calc(num, pow):\n",
    "    return num**pow\n",
    "# num is base in first iterable, exponent is in second iterable so 1**11, 2**12, 3**13, etc.\n",
    "powers = map(calc, range(1, 6), range(11, 20)) # 1**11, 2**12, 3**13, etc. range(1, 6) is shortest range here.\n",
    "# with lambda: powers = map(lambda x, y : x**y , range(1, 6), range(11, 20)) \n",
    "p = enumerate(powers, start = 1) # get index position starting at 1\n",
    "print(\"(value, value**value )\")\n",
    "for i in p:\n",
    "    print(i)"
   ]
  },
  {
   "cell_type": "markdown",
   "metadata": {},
   "source": [
    "### Example uses filter with named function (could we use lambda here?). Note the mod does not have to use O(n) but O(n**0.5). Formal proof not necessary but think about it."
   ]
  },
  {
   "cell_type": "code",
   "execution_count": 145,
   "metadata": {},
   "outputs": [
    {
     "name": "stdout",
     "output_type": "stream",
     "text": [
      "3 True\n",
      "5 True\n",
      "7 True\n",
      "9 False\n",
      "11 True\n",
      "13 True\n",
      "15 False\n",
      "17 True\n",
      "19 True\n",
      "21 False\n",
      "23 True\n",
      "25 False\n"
     ]
    },
    {
     "data": {
      "text/plain": [
       "[3,\n",
       " 5,\n",
       " 7,\n",
       " 11,\n",
       " 13,\n",
       " 17,\n",
       " 19,\n",
       " 23,\n",
       " 29,\n",
       " 31,\n",
       " 37,\n",
       " 41,\n",
       " 43,\n",
       " 47,\n",
       " 53,\n",
       " 59,\n",
       " 61,\n",
       " 67,\n",
       " 71,\n",
       " 73,\n",
       " 79,\n",
       " 83,\n",
       " 89,\n",
       " 97,\n",
       " 101,\n",
       " 103,\n",
       " 107,\n",
       " 109,\n",
       " 113,\n",
       " 127,\n",
       " 131,\n",
       " 137,\n",
       " 139,\n",
       " 149,\n",
       " 151,\n",
       " 157,\n",
       " 163,\n",
       " 167,\n",
       " 173,\n",
       " 179,\n",
       " 181,\n",
       " 191,\n",
       " 193,\n",
       " 197,\n",
       " 199,\n",
       " 211]"
      ]
     },
     "execution_count": 145,
     "metadata": {},
     "output_type": "execute_result"
    }
   ],
   "source": [
    "from math import ceil\n",
    "for n in range(3, 27, 2):# 2 3 5 7 11 13 17 19 23 29 31 37 41 43 47 53 59 61 67 71\n",
    "#73 79 83 89 97 101 103 107 109 113\n",
    "#127 131 137 139 149 151 157 163 167 173\n",
    "#179 181 191 193 197 199 211 223 227 229\n",
    "#233 239 241 251 257 263 269 271 277\n",
    "    print(n, len([i for i in range(2, ceil(n**0.5) + 1) if n%i == 0]) == 0)\n",
    "def find_primes(n):\n",
    "    return len([i for i in range(2, ceil(n**0.5) + 1) if n%i == 0]) == 0\n",
    "p = filter(find_primes, range(3, 217, 2))\n",
    "list(p) # please work on lambda, filter, map, reduce. Stream interface in Java 8 will have similar functions.\n"
   ]
  },
  {
   "cell_type": "markdown",
   "metadata": {},
   "source": [
    "### Use reduce for the first parameter as a type of accumulator and the second parameter as an iterable."
   ]
  },
  {
   "cell_type": "code",
   "execution_count": 137,
   "metadata": {},
   "outputs": [
    {
     "name": "stdout",
     "output_type": "stream",
     "text": [
      "Value of factorial = 120\n"
     ]
    }
   ],
   "source": [
    "from Lib.functools import reduce\n",
    "factorial = reduce(lambda x, y : (x*y), range(1, 6))\n",
    "print(\"Value of factorial =\", factorial)"
   ]
  },
  {
   "cell_type": "markdown",
   "metadata": {},
   "source": [
    "### A perfect fit for a line showing numpy array "
   ]
  },
  {
   "cell_type": "code",
   "execution_count": 146,
   "metadata": {},
   "outputs": [
    {
     "data": {
      "text/plain": [
       "[<matplotlib.lines.Line2D at 0x1c6ac3ec550>]"
      ]
     },
     "execution_count": 146,
     "metadata": {},
     "output_type": "execute_result"
    },
    {
     "data": {
      "image/png": "[encoded data removed]",
      "text/plain": [
       "<Figure size 432x288 with 1 Axes>"
      ]
     },
     "metadata": {
      "needs_background": "light"
     },
     "output_type": "display_data"
    }
   ],
   "source": [
    "import numpy as np\n",
    "from matplotlib import pyplot as plt  # seaborn is another good plotting library\n",
    "%matplotlib inline\n",
    "x = np.array([1,2,3,4,5])\n",
    "y = np.array([4, 6, 8, 10, 12])\n",
    "plt.title(\"Sample plot\")\n",
    "plt.grid()\n",
    "plt.xlabel(\"x axis\")\n",
    "plt.ylabel(\"y axis\")\n",
    "plt.plot(x, y, label='Model')\n"
   ]
  },
  {
   "cell_type": "markdown",
   "metadata": {},
   "source": [
    "### Scatter plot with two sets of data, legend, grid"
   ]
  },
  {
   "cell_type": "code",
   "execution_count": 147,
   "metadata": {},
   "outputs": [
    {
     "data": {
      "text/plain": [
       "Text(0, 0.5, 'y axis')"
      ]
     },
     "execution_count": 147,
     "metadata": {},
     "output_type": "execute_result"
    },
    {
     "data": {
      "image/png": "[encoded data removed]",
      "text/plain": [
       "<Figure size 432x288 with 1 Axes>"
      ]
     },
     "metadata": {
      "needs_background": "light"
     },
     "output_type": "display_data"
    }
   ],
   "source": [
    "import numpy as np\n",
    "from matplotlib import pyplot as plt\n",
    "%matplotlib inline\n",
    "set1 = plt.scatter(np.array([1, 2, 3, 4, 5]), np.array([11, 22, 38, 41, 66]), c=\"orange\", label=\"data set 1\" )\n",
    "set2 = plt.scatter(np.array([1, 3, 5, 11, 19]), np.array([17, 26, 55, 69, 87]), c=\"green\", label=\"data set 2\" )\n",
    "plt.title(\"Sample plot\")\n",
    "plt.legend(loc='best')\n",
    "plt.grid()\n",
    "plt.xlabel(\"x axis\")\n",
    "plt.ylabel(\"y axis\")\n"
   ]
  },
  {
   "cell_type": "markdown",
   "metadata": {},
   "source": [
    "### Let's use scikit-learn library to make regression (linear regression here) easier"
   ]
  },
  {
   "cell_type": "code",
   "execution_count": 148,
   "metadata": {},
   "outputs": [],
   "source": [
    "import numpy as np\n",
    "from sklearn.linear_model import LinearRegression\n",
    "\n",
    "x = np.array([5, 18, 28, 38, 55, 65]).reshape((-1, 1)) # Make array one col. and as many rows as necessary with reshape.\n",
    "y = np.array([5, 28, 23, 39, 31, 45])"
   ]
  },
  {
   "cell_type": "code",
   "execution_count": 149,
   "metadata": {},
   "outputs": [
    {
     "name": "stdout",
     "output_type": "stream",
     "text": [
      "[[ 5]\n",
      " [18]\n",
      " [28]\n",
      " [38]\n",
      " [55]\n",
      " [65]] (6, 1)\n",
      "[ 5 28 23 39 31 45]\n"
     ]
    }
   ],
   "source": [
    "print(x, x.shape)\n",
    "print(y)"
   ]
  },
  {
   "cell_type": "markdown",
   "metadata": {},
   "source": [
    "###  r squared shows how well data is correlated (fit) to a line.\n",
    "* 1.0 shows perfect correlation for data\n",
    "* 0 shows no correlation\n",
    "* -1.0 shows no correlation\n",
    "* relative magnitude of coefficient shows degree of correlation of anti-correlation\n"
   ]
  },
  {
   "cell_type": "code",
   "execution_count": 150,
   "metadata": {},
   "outputs": [
    {
     "name": "stdout",
     "output_type": "stream",
     "text": [
      "corr. coeff. r**2 = 0.7133124221586062\n"
     ]
    }
   ],
   "source": [
    "model = LinearRegression().fit(x, y)\n",
    "r_square = model.score(x, y)\n",
    "print(\"corr. coeff. r**2 =\" ,r_square)"
   ]
  },
  {
   "cell_type": "markdown",
   "metadata": {},
   "source": [
    "### Compute y intercept (b) and slope (m) of line: y = mx + b. We can then use data for independent variable x to predict dependent variable y."
   ]
  },
  {
   "cell_type": "code",
   "execution_count": 151,
   "metadata": {},
   "outputs": [
    {
     "name": "stdout",
     "output_type": "stream",
     "text": [
      "intercept b: 10.33\n",
      "slope m: 0.52\n",
      "y = 0.52x + 10.33\n"
     ]
    }
   ],
   "source": [
    "print('intercept b: %4.2f' %model.intercept_)\n",
    "print('slope m: %4.2f' %model.coef_)\n",
    "print('y = %4.2fx + %4.2f' %(model.coef_, model.intercept_))\n"
   ]
  },
  {
   "cell_type": "markdown",
   "metadata": {},
   "source": [
    "### Plot points and draw line from regression."
   ]
  },
  {
   "cell_type": "code",
   "execution_count": null,
   "metadata": {},
   "outputs": [],
   "source": [
    "plt.scatter(np.array([5, 18, 28, 38, 55, 65]), np.array([5, 28, 23, 39, 31, 45]), c=\"r\")\n",
    "plt.title(\"Linear Regression\")\n",
    "plt.grid()\n",
    "plt.xlabel(\"x\")\n",
    "plt.ylabel(\"y\")"
   ]
  },
  {
   "cell_type": "code",
   "execution_count": null,
   "metadata": {},
   "outputs": [],
   "source": [
    "yvals = map(lambda xval : 0.52*xval + 10.3 , np.array([5, 18, 28, 38, 55, 65]))\n",
    "yvals = list()"
   ]
  },
  {
   "cell_type": "markdown",
   "metadata": {},
   "source": [
    "### Now plot regression line with actual data and view \"best fit\" line with actual points."
   ]
  },
  {
   "cell_type": "code",
   "execution_count": 19,
   "metadata": {},
   "outputs": [
    {
     "data": {
      "image/png": "[encoded data removed]",
      "text/plain": [
       "<Figure size 432x288 with 1 Axes>"
      ]
     },
     "metadata": {
      "needs_background": "light"
     },
     "output_type": "display_data"
    }
   ],
   "source": [
    "# Get y-Values from actual data for line. Cast map to list so plotting y-values is valid.\n",
    "yvals = list(map(lambda xval : 0.52*xval + 10.3 , np.array([5, 18, 28, 38, 55, 65]))) \n",
    "plt.scatter(np.array([5, 18, 28, 38, 55, 65]), np.array([5, 28, 23, 39, 31, 45]), c=\"r\")\n",
    "plt.title(\"Linear Regression\")\n",
    "plt.grid()\n",
    "plt.xlabel(\"x\")\n",
    "plt.ylabel(\"y\")\n",
    "plt.plot(np.array([5, 18, 28, 38, 55, 65]), yvals) # can't use map as y-values\n",
    "plt.show()"
   ]
  },
  {
   "cell_type": "markdown",
   "metadata": {},
   "source": [
    "### Can think of multiple linear regression as using many observations (rows) of data using columns (features) as the independent variables, choosing a column as the dependent variable. Look at numpy for matrix multiplication. We saw something similar for pandas.DataFrame and dot product."
   ]
  },
  {
   "cell_type": "code",
   "execution_count": 23,
   "metadata": {},
   "outputs": [
    {
     "ename": "OSError",
     "evalue": "vaccinations.txt not found.",
     "output_type": "error",
     "traceback": [
      "\u001b[1;31m---------------------------------------------------------------------------\u001b[0m",
      "\u001b[1;31mOSError\u001b[0m                                   Traceback (most recent call last)",
      "\u001b[1;32m<ipython-input-23-6704bd064751>\u001b[0m in \u001b[0;36m<module>\u001b[1;34m\u001b[0m\n\u001b[0;32m      4\u001b[0m  \u001b[1;31m#                          'vaccinations.txt') # too many columns in some rows\u001b[0m\u001b[1;33m\u001b[0m\u001b[1;33m\u001b[0m\u001b[1;33m\u001b[0m\u001b[0m\n\u001b[0;32m      5\u001b[0m \u001b[0murllib\u001b[0m\u001b[1;33m.\u001b[0m\u001b[0mrequest\u001b[0m\u001b[1;33m.\u001b[0m\u001b[0murlopen\u001b[0m\u001b[1;33m(\u001b[0m\u001b[1;34m'file:///c:/Users/thomas.aronson/DataScience/country_vaccinations.csv'\u001b[0m\u001b[1;33m)\u001b[0m\u001b[1;33m\u001b[0m\u001b[1;33m\u001b[0m\u001b[0m\n\u001b[1;32m----> 6\u001b[1;33m \u001b[0mclosing_data\u001b[0m \u001b[1;33m=\u001b[0m \u001b[0mnp\u001b[0m\u001b[1;33m.\u001b[0m\u001b[0mgenfromtxt\u001b[0m\u001b[1;33m(\u001b[0m\u001b[1;34m'vaccinations.txt'\u001b[0m\u001b[1;33m,\u001b[0m \u001b[0mdelimiter\u001b[0m\u001b[1;33m=\u001b[0m\u001b[1;34m','\u001b[0m\u001b[1;33m,\u001b[0m \u001b[0mskip_header\u001b[0m\u001b[1;33m=\u001b[0m\u001b[1;36m1\u001b[0m\u001b[1;33m)\u001b[0m\u001b[1;33m\u001b[0m\u001b[1;33m\u001b[0m\u001b[0m\n\u001b[0m\u001b[0;32m      7\u001b[0m \u001b[0mclosing_data\u001b[0m\u001b[1;33m\u001b[0m\u001b[1;33m\u001b[0m\u001b[0m\n",
      "\u001b[1;32m~\\Anaconda3\\lib\\site-packages\\numpy\\lib\\npyio.py\u001b[0m in \u001b[0;36mgenfromtxt\u001b[1;34m(fname, dtype, comments, delimiter, skip_header, skip_footer, converters, missing_values, filling_values, usecols, names, excludelist, deletechars, replace_space, autostrip, case_sensitive, defaultfmt, unpack, usemask, loose, invalid_raise, max_rows, encoding)\u001b[0m\n\u001b[0;32m   1747\u001b[0m             \u001b[0mfname\u001b[0m \u001b[1;33m=\u001b[0m \u001b[0mos_fspath\u001b[0m\u001b[1;33m(\u001b[0m\u001b[0mfname\u001b[0m\u001b[1;33m)\u001b[0m\u001b[1;33m\u001b[0m\u001b[1;33m\u001b[0m\u001b[0m\n\u001b[0;32m   1748\u001b[0m         \u001b[1;32mif\u001b[0m \u001b[0misinstance\u001b[0m\u001b[1;33m(\u001b[0m\u001b[0mfname\u001b[0m\u001b[1;33m,\u001b[0m \u001b[0mstr\u001b[0m\u001b[1;33m)\u001b[0m\u001b[1;33m:\u001b[0m\u001b[1;33m\u001b[0m\u001b[1;33m\u001b[0m\u001b[0m\n\u001b[1;32m-> 1749\u001b[1;33m             \u001b[0mfid\u001b[0m \u001b[1;33m=\u001b[0m \u001b[0mnp\u001b[0m\u001b[1;33m.\u001b[0m\u001b[0mlib\u001b[0m\u001b[1;33m.\u001b[0m\u001b[0m_datasource\u001b[0m\u001b[1;33m.\u001b[0m\u001b[0mopen\u001b[0m\u001b[1;33m(\u001b[0m\u001b[0mfname\u001b[0m\u001b[1;33m,\u001b[0m \u001b[1;34m'rt'\u001b[0m\u001b[1;33m,\u001b[0m \u001b[0mencoding\u001b[0m\u001b[1;33m=\u001b[0m\u001b[0mencoding\u001b[0m\u001b[1;33m)\u001b[0m\u001b[1;33m\u001b[0m\u001b[1;33m\u001b[0m\u001b[0m\n\u001b[0m\u001b[0;32m   1750\u001b[0m             \u001b[0mfid_ctx\u001b[0m \u001b[1;33m=\u001b[0m \u001b[0mcontextlib\u001b[0m\u001b[1;33m.\u001b[0m\u001b[0mclosing\u001b[0m\u001b[1;33m(\u001b[0m\u001b[0mfid\u001b[0m\u001b[1;33m)\u001b[0m\u001b[1;33m\u001b[0m\u001b[1;33m\u001b[0m\u001b[0m\n\u001b[0;32m   1751\u001b[0m         \u001b[1;32melse\u001b[0m\u001b[1;33m:\u001b[0m\u001b[1;33m\u001b[0m\u001b[1;33m\u001b[0m\u001b[0m\n",
      "\u001b[1;32m~\\Anaconda3\\lib\\site-packages\\numpy\\lib\\_datasource.py\u001b[0m in \u001b[0;36mopen\u001b[1;34m(path, mode, destpath, encoding, newline)\u001b[0m\n\u001b[0;32m    193\u001b[0m \u001b[1;33m\u001b[0m\u001b[0m\n\u001b[0;32m    194\u001b[0m     \u001b[0mds\u001b[0m \u001b[1;33m=\u001b[0m \u001b[0mDataSource\u001b[0m\u001b[1;33m(\u001b[0m\u001b[0mdestpath\u001b[0m\u001b[1;33m)\u001b[0m\u001b[1;33m\u001b[0m\u001b[1;33m\u001b[0m\u001b[0m\n\u001b[1;32m--> 195\u001b[1;33m     \u001b[1;32mreturn\u001b[0m \u001b[0mds\u001b[0m\u001b[1;33m.\u001b[0m\u001b[0mopen\u001b[0m\u001b[1;33m(\u001b[0m\u001b[0mpath\u001b[0m\u001b[1;33m,\u001b[0m \u001b[0mmode\u001b[0m\u001b[1;33m,\u001b[0m \u001b[0mencoding\u001b[0m\u001b[1;33m=\u001b[0m\u001b[0mencoding\u001b[0m\u001b[1;33m,\u001b[0m \u001b[0mnewline\u001b[0m\u001b[1;33m=\u001b[0m\u001b[0mnewline\u001b[0m\u001b[1;33m)\u001b[0m\u001b[1;33m\u001b[0m\u001b[1;33m\u001b[0m\u001b[0m\n\u001b[0m\u001b[0;32m    196\u001b[0m \u001b[1;33m\u001b[0m\u001b[0m\n\u001b[0;32m    197\u001b[0m \u001b[1;33m\u001b[0m\u001b[0m\n",
      "\u001b[1;32m~\\Anaconda3\\lib\\site-packages\\numpy\\lib\\_datasource.py\u001b[0m in \u001b[0;36mopen\u001b[1;34m(self, path, mode, encoding, newline)\u001b[0m\n\u001b[0;32m    533\u001b[0m                                       encoding=encoding, newline=newline)\n\u001b[0;32m    534\u001b[0m         \u001b[1;32melse\u001b[0m\u001b[1;33m:\u001b[0m\u001b[1;33m\u001b[0m\u001b[1;33m\u001b[0m\u001b[0m\n\u001b[1;32m--> 535\u001b[1;33m             \u001b[1;32mraise\u001b[0m \u001b[0mIOError\u001b[0m\u001b[1;33m(\u001b[0m\u001b[1;34m\"%s not found.\"\u001b[0m \u001b[1;33m%\u001b[0m \u001b[0mpath\u001b[0m\u001b[1;33m)\u001b[0m\u001b[1;33m\u001b[0m\u001b[1;33m\u001b[0m\u001b[0m\n\u001b[0m\u001b[0;32m    536\u001b[0m \u001b[1;33m\u001b[0m\u001b[0m\n\u001b[0;32m    537\u001b[0m \u001b[1;33m\u001b[0m\u001b[0m\n",
      "\u001b[1;31mOSError\u001b[0m: vaccinations.txt not found."
     ]
    }
   ],
   "source": [
    "import urllib.request\n",
    "\n",
    "#urllib.request.urlopen('file:///c:/Users/thomas.aronson/DataScience/country_vaccinations.csv',\n",
    " #                          'vaccinations.txt') # too many columns in some rows\n",
    "urllib.request.urlopen('file:///c:/Users/thomas.aronson/DataScience/country_vaccinations.csv')\n",
    "closing_data = np.genfromtxt('vaccinations.txt', delimiter=',', skip_header=1)\n",
    "closing_data"
   ]
  },
  {
   "cell_type": "markdown",
   "metadata": {},
   "source": [
    "### Try reading csv file with pandas to avoid error of max columns and use multiply function of dataframe."
   ]
  },
  {
   "cell_type": "code",
   "execution_count": 15,
   "metadata": {},
   "outputs": [
    {
     "name": "stdout",
     "output_type": "stream",
     "text": [
      "      country iso_code        date  total_vaccinations  people_vaccinated  \\\n",
      "83  Argentina      ARG  2021-01-21            265724.0           249372.0   \n",
      "84  Argentina      ARG  2021-01-22            279602.0           254456.0   \n",
      "85  Argentina      ARG  2021-01-23            288064.0           258876.0   \n",
      "86  Argentina      ARG  2021-01-24            292023.0           260036.0   \n",
      "87  Argentina      ARG  2021-01-25            292386.0           260122.0   \n",
      "\n",
      "    people_fully_vaccinated  daily_vaccinations_raw  daily_vaccinations  \\\n",
      "83                  16352.0                 17791.0             11704.0   \n",
      "84                  25146.0                 13878.0             11263.0   \n",
      "85                  29188.0                  8462.0             11124.0   \n",
      "86                  31987.0                  3959.0             10342.0   \n",
      "87                  32264.0                   363.0              9046.0   \n",
      "\n",
      "    total_vaccinations_per_hundred  people_vaccinated_per_hundred  \\\n",
      "83                            0.59                           0.55   \n",
      "84                            0.62                           0.56   \n",
      "85                            0.64                           0.57   \n",
      "86                            0.65                           0.58   \n",
      "87                            0.65                           0.58   \n",
      "\n",
      "    people_fully_vaccinated_per_hundred  daily_vaccinations_per_million  \\\n",
      "83                                 0.04                           259.0   \n",
      "84                                 0.06                           249.0   \n",
      "85                                 0.06                           246.0   \n",
      "86                                 0.07                           229.0   \n",
      "87                                 0.07                           200.0   \n",
      "\n",
      "     vaccines         source_name  \\\n",
      "83  Sputnik V  Ministry of Health   \n",
      "84  Sputnik V  Ministry of Health   \n",
      "85  Sputnik V  Ministry of Health   \n",
      "86  Sputnik V  Ministry of Health   \n",
      "87  Sputnik V  Ministry of Health   \n",
      "\n",
      "                                       source_website  \n",
      "83  http://datos.salud.gob.ar/dataset/vacunas-cont...  \n",
      "84  http://datos.salud.gob.ar/dataset/vacunas-cont...  \n",
      "85  http://datos.salud.gob.ar/dataset/vacunas-cont...  \n",
      "86  http://datos.salud.gob.ar/dataset/vacunas-cont...  \n",
      "87  http://datos.salud.gob.ar/dataset/vacunas-cont...  \n",
      "<class 'pandas.core.frame.DataFrame'>\n",
      "(878, 3)\n"
     ]
    },
    {
     "data": {
      "text/plain": [
       "83        214214.4\n",
       "84        226196.2\n",
       "85        233370.0\n",
       "86        236817.1\n",
       "87        237135.2\n",
       "           ...    \n",
       "3240    36707805.8\n",
       "3241    38087837.0\n",
       "3242    39790067.5\n",
       "3243    41670647.4\n",
       "3244    43560835.0\n",
       "Length: 878, dtype: float64"
      ]
     },
     "execution_count": 15,
     "metadata": {},
     "output_type": "execute_result"
    }
   ],
   "source": [
    "import pandas as pd\n",
    "import numpy as np\n",
    "df = pd.read_csv(\"c:/Users/thomas.aronson/Downloads/country_vaccinations.csv\")\n",
    "df.shape\n",
    "df[['country', 'people_vaccinated', 'people_fully_vaccinated']]\n",
    "df.isnull().values.any()\n",
    "df.convert_dtypes()\n",
    "df.dropna(inplace=True)\n",
    "print(df.head(5))\n",
    "\n",
    "weights = np.array([0.3, 0.4, 0.5])\n",
    "df2 = df[['people_vaccinated', 'people_fully_vaccinated', 'total_vaccinations']]\n",
    "print(type(df2))\n",
    "df2\n",
    "print(df2.shape)\n",
    "results = df2.multiply(weights) # numpy matmul does not seem to work for DataFrame and array\n",
    "results2 = df2.dot(weights) # Not same as above multiply function! This does true dot product. Above is element by element.\n",
    "results2\n"
   ]
  },
  {
   "cell_type": "markdown",
   "metadata": {},
   "source": [
    "### This is correct for numpy matmul of two numpy arrays so using matmul with arrays works as expected."
   ]
  },
  {
   "cell_type": "code",
   "execution_count": 16,
   "metadata": {},
   "outputs": [
    {
     "data": {
      "text/plain": [
       "259"
      ]
     },
     "execution_count": 16,
     "metadata": {},
     "output_type": "execute_result"
    }
   ],
   "source": [
    "mat1 = np.array([1, 2, 5, 6, 12, 7])\n",
    "mat2 = np.array([1, 2, 5, 6, 12, 7])\n",
    "np.matmul(mat1, mat2)"
   ]
  },
  {
   "cell_type": "markdown",
   "metadata": {},
   "source": [
    "### Check regression model with an example."
   ]
  },
  {
   "cell_type": "code",
   "execution_count": 17,
   "metadata": {},
   "outputs": [
    {
     "name": "stdout",
     "output_type": "stream",
     "text": [
      "(1000, 10) (1000,)\n",
      "MSE: 7335.446105\n"
     ]
    }
   ],
   "source": [
    "\"\"\"\n",
    "Created on Sat Feb 13 14:36:02 2021\n",
    "\n",
    "@author: Jason Brownlee / TA\n",
    "\"\"\"\n",
    "\n",
    "from numpy.random import rand\n",
    "from sklearn.datasets import make_regression\n",
    "from sklearn.metrics import mean_squared_error\n",
    "\n",
    "# linear regression\n",
    "def predict_row2(row, coefficients):\n",
    "    # add the bias, the last coefficient\n",
    "    result = coefficients[-1]\n",
    "    # add the weighted input\n",
    "    # This is longer way \"non-Pythonic\" with for loop\n",
    "    for i in range(len(row)):\n",
    "        result += coefficients[i] * row[i]\n",
    "    return result\n",
    "\n",
    "def predict_row(row, coefficients):\n",
    "    # add the bias, the last coefficient\n",
    "    result1 = coefficients[-1]\n",
    "    # add the weighted input\n",
    "    # This is more \"Pythonic\".\n",
    "    result = [coefficients[i] * row[i] for i in range(len(row))]\n",
    "    return result[0] + result1\n",
    "\n",
    "def predict_dataset(X, coefficients):\n",
    "    yhats = list()\n",
    "    for row in X:\n",
    "        # make a prediction\n",
    "        yhat = predict_row(row, coefficients)\n",
    "        # store the prediction\n",
    "        yhats.append(yhat)\n",
    "    return yhats\n",
    "\n",
    "# define dataset\n",
    "X, y = make_regression(n_samples=1000, n_features=10, n_informative=2, noise=0.2, random_state=1)\n",
    "# summarize the shape of the dataset\n",
    "print(X.shape, y.shape)\n",
    "\n",
    "# determine the number of coefficients\n",
    "n_coeff = X.shape[1] + 1\n",
    "# generate random coefficients\n",
    "coefficients = rand(n_coeff)\n",
    "# generate predictions for dataset\n",
    "yhat = predict_dataset(X, coefficients)\n",
    "# calculate model prediction error\n",
    "score = mean_squared_error(y, yhat)\n",
    "print('MSE: %f' % score)\n"
   ]
  },
  {
   "cell_type": "markdown",
   "metadata": {},
   "source": [
    "### We can analyze a box plot and some of the important features."
   ]
  },
  {
   "cell_type": "code",
   "execution_count": 18,
   "metadata": {},
   "outputs": [
    {
     "data": {
      "text/plain": [
       "{'whiskers': [<matplotlib.lines.Line2D at 0x116b7cdcf70>,\n",
       "  <matplotlib.lines.Line2D at 0x116b7cf8310>,\n",
       "  <matplotlib.lines.Line2D at 0x116b7d037c0>,\n",
       "  <matplotlib.lines.Line2D at 0x116b7d03b20>,\n",
       "  <matplotlib.lines.Line2D at 0x116b7d0ffa0>,\n",
       "  <matplotlib.lines.Line2D at 0x116b7d1a340>],\n",
       " 'caps': [<matplotlib.lines.Line2D at 0x116b7cf8670>,\n",
       "  <matplotlib.lines.Line2D at 0x116b7cf89d0>,\n",
       "  <matplotlib.lines.Line2D at 0x116b7d03e80>,\n",
       "  <matplotlib.lines.Line2D at 0x116b7d0f220>,\n",
       "  <matplotlib.lines.Line2D at 0x116b7d1a6a0>,\n",
       "  <matplotlib.lines.Line2D at 0x116b7d1aa00>],\n",
       " 'boxes': [<matplotlib.lines.Line2D at 0x116b7cdcc10>,\n",
       "  <matplotlib.lines.Line2D at 0x116b7d03460>,\n",
       "  <matplotlib.lines.Line2D at 0x116b7d0fc40>],\n",
       " 'medians': [<matplotlib.lines.Line2D at 0x116b7cf8d30>,\n",
       "  <matplotlib.lines.Line2D at 0x116b7d0f580>,\n",
       "  <matplotlib.lines.Line2D at 0x116b7d1ad60>],\n",
       " 'fliers': [<matplotlib.lines.Line2D at 0x116b7d030d0>,\n",
       "  <matplotlib.lines.Line2D at 0x116b7d0f8e0>,\n",
       "  <matplotlib.lines.Line2D at 0x116b7d25100>],\n",
       " 'means': []}"
      ]
     },
     "execution_count": 18,
     "metadata": {},
     "output_type": "execute_result"
    },
    {
     "data": {
      "image/png": "[encoded data removed]",
      "text/plain": [
       "<Figure size 432x288 with 1 Axes>"
      ]
     },
     "metadata": {
      "needs_background": "light"
     },
     "output_type": "display_data"
    }
   ],
   "source": [
    "from matplotlib import pyplot as plt\n",
    "values = np.array([1, 10.5, 12.2, 2.2, 3.3, 5.6, 8.1, 33.7, 22.6, 19, 56.9, 14.5, 25.8])\n",
    "values2 = 2*values\n",
    "values3 = 3.3*values\n",
    "data = [values, values2, values3]\n",
    "fig, ax1 = plt.subplots()\n",
    "ax1.set_title(\"Various Box Plots\")\n",
    "plt.boxplot(data)\n"
   ]
  },
  {
   "cell_type": "markdown",
   "metadata": {},
   "source": [
    "### We see a lot of random numbers generated for various purposes in Python. This is just an example of choosing the order of group presentations using random numbers."
   ]
  },
  {
   "cell_type": "code",
   "execution_count": null,
   "metadata": {},
   "outputs": [],
   "source": [
    "# set will not print members in order so use list also\n",
    "from random import random\n",
    "groups = set() # won't add duplicates\n",
    "lst = []\n",
    "for i in range(1, 150):\n",
    "    group_num = int(10*random()) + 1\n",
    "    if(group_num == 10):\n",
    "        continue\n",
    "    groups.add(group_num)\n",
    "    if lst.count(group_num) == 0:\n",
    "        lst.append(group_num)\n",
    "    if len(groups) == 9:\n",
    "        break\n",
    "print(lst)\n"
   ]
  },
  {
   "cell_type": "code",
   "execution_count": null,
   "metadata": {},
   "outputs": [],
   "source": [
    "# set will print members in order so use list also\n",
    "from random import random\n",
    "groups = set() # won't add duplicates\n",
    "lst = []\n",
    "for i in range(1, 150):\n",
    "    group_num = int(10*random()) + 1\n",
    "    if(group_num == 10):\n",
    "        continue\n",
    "    groups.add(group_num)\n",
    "    \n",
    "    if len(groups) == 9:\n",
    "        break\n",
    "print(groups)\n"
   ]
  },
  {
   "cell_type": "code",
   "execution_count": null,
   "metadata": {},
   "outputs": [],
   "source": []
  },
  {
   "cell_type": "markdown",
   "metadata": {},
   "source": [
    "### Stacked bar charts can be hard to read based on actual values in terms of the charts above level one. But the relative sizes of the charts for the given data are the important thing."
   ]
  },
  {
   "cell_type": "code",
   "execution_count": 157,
   "metadata": {},
   "outputs": [
    {
     "name": "stdout",
     "output_type": "stream",
     "text": [
      "{'_stale': True, 'stale_callback': None, 'figure': None, '_transform': None, '_transformSet': False, '_visible': True, '_animated': False, '_alpha': None, 'clipbox': None, '_clippath': None, '_clipon': True, '_label': '', '_picker': None, '_contains': None, '_rasterized': None, '_agg_filter': None, '_mouseover': False, 'eventson': False, '_oid': 0, '_propobservers': {}, '_remove_method': None, '_url': None, '_gid': None, '_snap': None, '_sketch': None, '_path_effects': [], '_sticky_edges': _XYPair(x=[], y=[]), '_in_layout': True, 'callbacks': <matplotlib.cbook.CallbackRegistry object at 0x000001C6AC70F220>, 'bbox_inches': Bbox([[0.0, 0.0], [6.0, 4.0]]), 'dpi_scale_trans': <matplotlib.transforms.Affine2D object at 0x000001C6AC70CB50>, '_dpi': 72.0, 'bbox': <matplotlib.transforms.TransformedBbox object at 0x000001C6AC70CEB0>, 'transFigure': <matplotlib.transforms.BboxTransformTo object at 0x000001C6AC70CF40>, 'patch': <matplotlib.patches.Rectangle object at 0x000001C6AC70CF10>, '_suptitle': None, 'subplotpars': <matplotlib.figure.SubplotParams object at 0x000001C6AC70F190>, '_constrained_layout_pads': {'w_pad': 0.04167, 'h_pad': 0.04167, 'wspace': 0.02, 'hspace': 0.02}, '_constrained': False, '_tight': False, '_tight_parameters': {}, '_axstack': <matplotlib.figure._AxesStack object at 0x000001C6AC70F1C0>, 'suppressComposite': None, 'artists': [], 'lines': [], 'patches': [], 'texts': [], 'images': [], 'legends': [], '_axobservers': <matplotlib.cbook.CallbackRegistry object at 0x000001C6AC70CD60>, '_cachedRenderer': None, '_align_xlabel_grp': <matplotlib.cbook.Grouper object at 0x000001C6AC70F280>, '_align_ylabel_grp': <matplotlib.cbook.Grouper object at 0x000001C6AC70F2E0>, '_gridspecs': [GridSpec(1, 1)], 'number': 1, '__mpl_version__': '3.3.2', '_restore_to_pylab': True}\n"
     ]
    },
    {
     "data": {
      "image/png": "[encoded data removed]",
      "text/plain": [
       "<Figure size 432x288 with 1 Axes>"
      ]
     },
     "metadata": {
      "needs_background": "light"
     },
     "output_type": "display_data"
    }
   ],
   "source": [
    "# adapted from https://matplotlib.org/stable/gallery/lines_bars_and_markers/bar_stacked.html#sphx-glr-gallery-lines-bars-and-markers-bar-stacked-py\n",
    "import matplotlib.pyplot as plt\n",
    "\n",
    "labels = ['GR1', 'GR2', 'GR3', 'GR4', 'GR5']\n",
    "# Height of each bar\n",
    "male_means = [20, 35, 30, 35, 27]\n",
    "female_means = [25, 32, 34, 20, 25] # female scores are difference in vertical axis between male max and max for each bar\n",
    "# Length of vertical bars for each group are male/female std. dev.\n",
    "male_std = [2, 3, 4, 1, 2]  #std. deviations for males, female std. dev. below\n",
    "female_std = [3, 5, 2, 3, 3]\n",
    "width = 0.40       # the width of the bars: can also be len(x) sequence\n",
    "\n",
    "fig, ax = plt.subplots() # ax denotes a single axis in this case based on no params for function; fig is Figure.\n",
    "print(fig.__getstate__())\n",
    "ax.bar(labels, male_means, width, yerr=male_std, label='Males', color = 'b')\n",
    "ax.bar(labels, female_means, width, yerr=female_std, bottom=male_means,\n",
    "       label='Females', color = 'pink')\n",
    "\n",
    "ax.set_ylabel('Scores')\n",
    "ax.set_title('Scores by group and gender')\n",
    "ax.legend()\n",
    "\n",
    "plt.show()"
   ]
  }
 ],
 "metadata": {
  "kernelspec": {
   "display_name": "Python 3",
   "language": "python",
   "name": "python3"
  },
  "language_info": {
   "codemirror_mode": {
    "name": "ipython",
    "version": 3
   },
   "file_extension": ".py",
   "mimetype": "text/x-python",
   "name": "python",
   "nbconvert_exporter": "python",
   "pygments_lexer": "ipython3",
   "version": "3.8.5"
  }
 },
 "nbformat": 4,
 "nbformat_minor": 4
}
